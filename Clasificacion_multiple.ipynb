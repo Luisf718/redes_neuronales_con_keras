{
  "nbformat": 4,
  "nbformat_minor": 0,
  "metadata": {
    "colab": {
      "name": "Clasificacion_multiple.ipynb",
      "provenance": [],
      "collapsed_sections": [],
      "authorship_tag": "ABX9TyOosCU1Pv/PRRwA5IZk6C5h"
    },
    "kernelspec": {
      "name": "python3",
      "display_name": "Python 3"
    },
    "language_info": {
      "name": "python"
    },
    "accelerator": "GPU"
  },
  "cells": [
    {
      "cell_type": "code",
      "metadata": {
        "id": "4cD7sAEBB_e5"
      },
      "source": [
        "from keras import layers, models\n",
        "from keras.datasets import reuters\n",
        "import numpy as np"
      ],
      "execution_count": 473,
      "outputs": []
    },
    {
      "cell_type": "code",
      "metadata": {
        "id": "fj36mOOxCXc4"
      },
      "source": [
        "(train_data, train_labels), (test_data, test_labels) = reuters.load_data(num_words=10000)"
      ],
      "execution_count": 474,
      "outputs": []
    },
    {
      "cell_type": "code",
      "metadata": {
        "colab": {
          "base_uri": "https://localhost:8080/"
        },
        "id": "YyTEIBfZCqr_",
        "outputId": "32a00295-26e6-4428-dfcf-a099c4d84133"
      },
      "source": [
        "word_index = reuters.get_word_index()\n",
        "word_index = dict([(value, key) for (key, value) in word_index.items()])\n",
        "for _ in train_data[0]:\n",
        "  print(word_index.get(_ -3))"
      ],
      "execution_count": 475,
      "outputs": [
        {
          "output_type": "stream",
          "name": "stdout",
          "text": [
            "None\n",
            "None\n",
            "None\n",
            "said\n",
            "as\n",
            "a\n",
            "result\n",
            "of\n",
            "its\n",
            "december\n",
            "acquisition\n",
            "of\n",
            "space\n",
            "co\n",
            "it\n",
            "expects\n",
            "earnings\n",
            "per\n",
            "share\n",
            "in\n",
            "1987\n",
            "of\n",
            "1\n",
            "15\n",
            "to\n",
            "1\n",
            "30\n",
            "dlrs\n",
            "per\n",
            "share\n",
            "up\n",
            "from\n",
            "70\n",
            "cts\n",
            "in\n",
            "1986\n",
            "the\n",
            "company\n",
            "said\n",
            "pretax\n",
            "net\n",
            "should\n",
            "rise\n",
            "to\n",
            "nine\n",
            "to\n",
            "10\n",
            "mln\n",
            "dlrs\n",
            "from\n",
            "six\n",
            "mln\n",
            "dlrs\n",
            "in\n",
            "1986\n",
            "and\n",
            "rental\n",
            "operation\n",
            "revenues\n",
            "to\n",
            "19\n",
            "to\n",
            "22\n",
            "mln\n",
            "dlrs\n",
            "from\n",
            "12\n",
            "5\n",
            "mln\n",
            "dlrs\n",
            "it\n",
            "said\n",
            "cash\n",
            "flow\n",
            "per\n",
            "share\n",
            "this\n",
            "year\n",
            "should\n",
            "be\n",
            "2\n",
            "50\n",
            "to\n",
            "three\n",
            "dlrs\n",
            "reuter\n",
            "3\n"
          ]
        }
      ]
    },
    {
      "cell_type": "code",
      "metadata": {
        "id": "c_U6lkDqDPDM"
      },
      "source": [
        "def vectorizar(sequences, dim=10000):\n",
        "  results = np.zeros((len(sequences),dim))\n",
        "  for i, sequences in enumerate(sequences):\n",
        "    results[i,sequences]=1\n",
        "  return results"
      ],
      "execution_count": 476,
      "outputs": []
    },
    {
      "cell_type": "code",
      "metadata": {
        "id": "xNPtvT5pDlvM"
      },
      "source": [
        "x_train = vectorizar(train_data)\n",
        "x_test = vectorizar(test_data)"
      ],
      "execution_count": 477,
      "outputs": []
    },
    {
      "cell_type": "code",
      "metadata": {
        "id": "g9YGsSuZECKG"
      },
      "source": [
        "from tensorflow.keras.utils import to_categorical"
      ],
      "execution_count": 478,
      "outputs": []
    },
    {
      "cell_type": "code",
      "metadata": {
        "id": "h-9isXIlEO43"
      },
      "source": [
        "y_train = to_categorical(train_labels)\n",
        "y_test = to_categorical(test_labels)"
      ],
      "execution_count": 479,
      "outputs": []
    },
    {
      "cell_type": "code",
      "metadata": {
        "id": "_srEoL16EoGj"
      },
      "source": [
        "model = models.Sequential()\n",
        "model.add(layers.Dense(225, activation=\"relu\", input_shape= (10000,),\n",
        "                        kernel_regularizer= regularizers.l2(0.0001)))\n",
        "model.add(layers.Dropout(0.5))\n",
        "model.add(layers.Dense(225, activation=\"relu\", kernel_regularizer= regularizers.l2(0.0001)))\n",
        "model.add(layers.Dropout(0.5))\n",
        "model.add(layers.Dense(46, activation=\"softmax\"))\n"
      ],
      "execution_count": 480,
      "outputs": []
    },
    {
      "cell_type": "code",
      "metadata": {
        "id": "eHTtQPXZFJo1"
      },
      "source": [
        "model.compile(optimizer=\"rmsprop\",\n",
        "              loss=\"categorical_crossentropy\",\n",
        "              metrics=[\"accuracy\"])"
      ],
      "execution_count": 481,
      "outputs": []
    },
    {
      "cell_type": "code",
      "metadata": {
        "id": "LpjXxTc8Feue"
      },
      "source": [
        "x_val = x_train[:1000]\n",
        "partial_x_train = x_train[1000:]\n",
        "\n",
        "y_val = y_train[:1000]\n",
        "partial_y_train = y_train[1000:]"
      ],
      "execution_count": 482,
      "outputs": []
    },
    {
      "cell_type": "code",
      "metadata": {
        "colab": {
          "base_uri": "https://localhost:8080/"
        },
        "id": "fOMphtyqwXPO",
        "outputId": "f4bf1ff3-10d0-4633-ac73-a6d377b27da7"
      },
      "source": [
        "history = model.fit(partial_x_train, partial_y_train,\n",
        "          epochs=15,\n",
        "          batch_size=512,\n",
        "          validation_data=(x_val, y_val))"
      ],
      "execution_count": 483,
      "outputs": [
        {
          "output_type": "stream",
          "name": "stdout",
          "text": [
            "Epoch 1/15\n",
            "16/16 [==============================] - 1s 36ms/step - loss: 2.3440 - accuracy: 0.4883 - val_loss: 1.5049 - val_accuracy: 0.6690\n",
            "Epoch 2/15\n",
            "16/16 [==============================] - 0s 24ms/step - loss: 1.4393 - accuracy: 0.6833 - val_loss: 1.2410 - val_accuracy: 0.7230\n",
            "Epoch 3/15\n",
            "16/16 [==============================] - 0s 22ms/step - loss: 1.1697 - accuracy: 0.7477 - val_loss: 1.1055 - val_accuracy: 0.7620\n",
            "Epoch 4/15\n",
            "16/16 [==============================] - 0s 22ms/step - loss: 0.9843 - accuracy: 0.7876 - val_loss: 1.0461 - val_accuracy: 0.7840\n",
            "Epoch 5/15\n",
            "16/16 [==============================] - 0s 22ms/step - loss: 0.8367 - accuracy: 0.8210 - val_loss: 0.9911 - val_accuracy: 0.8010\n",
            "Epoch 6/15\n",
            "16/16 [==============================] - 0s 21ms/step - loss: 0.7360 - accuracy: 0.8415 - val_loss: 0.9494 - val_accuracy: 0.8110\n",
            "Epoch 7/15\n",
            "16/16 [==============================] - 0s 22ms/step - loss: 0.6430 - accuracy: 0.8636 - val_loss: 0.9374 - val_accuracy: 0.8230\n",
            "Epoch 8/15\n",
            "16/16 [==============================] - 0s 22ms/step - loss: 0.5751 - accuracy: 0.8791 - val_loss: 0.9409 - val_accuracy: 0.8230\n",
            "Epoch 9/15\n",
            "16/16 [==============================] - 0s 22ms/step - loss: 0.5073 - accuracy: 0.8933 - val_loss: 0.9155 - val_accuracy: 0.8270\n",
            "Epoch 10/15\n",
            "16/16 [==============================] - 0s 21ms/step - loss: 0.4590 - accuracy: 0.9057 - val_loss: 0.9384 - val_accuracy: 0.8260\n",
            "Epoch 11/15\n",
            "16/16 [==============================] - 0s 22ms/step - loss: 0.4097 - accuracy: 0.9196 - val_loss: 0.9423 - val_accuracy: 0.8290\n",
            "Epoch 12/15\n",
            "16/16 [==============================] - 0s 21ms/step - loss: 0.3761 - accuracy: 0.9223 - val_loss: 0.9598 - val_accuracy: 0.8210\n",
            "Epoch 13/15\n",
            "16/16 [==============================] - 0s 21ms/step - loss: 0.3515 - accuracy: 0.9298 - val_loss: 0.9564 - val_accuracy: 0.8280\n",
            "Epoch 14/15\n",
            "16/16 [==============================] - 0s 21ms/step - loss: 0.3410 - accuracy: 0.9349 - val_loss: 0.9772 - val_accuracy: 0.8260\n",
            "Epoch 15/15\n",
            "16/16 [==============================] - 0s 20ms/step - loss: 0.3230 - accuracy: 0.9381 - val_loss: 0.9730 - val_accuracy: 0.8340\n"
          ]
        }
      ]
    },
    {
      "cell_type": "code",
      "metadata": {
        "colab": {
          "base_uri": "https://localhost:8080/",
          "height": 609
        },
        "id": "Uy3_b_NXwrLF",
        "outputId": "ac2317d5-1d4f-49b2-9da4-1ee14f1b5b79"
      },
      "source": [
        "import matplotlib.pyplot as plt\n",
        "\n",
        "history_dict = history.history\n",
        "loss_values = history_dict[\"loss\"]\n",
        "val_loss_values = history_dict[\"val_loss\"]\n",
        "\n",
        "fig = plt.figure(figsize=(10,10))\n",
        "epoch = range(1,len(loss_values)+1)\n",
        "plt.plot(epoch, loss_values, \"o\", label = \"training\")\n",
        "plt.plot(epoch, val_loss_values, \"--\", label = \"validation\")\n",
        "plt.legend()\n",
        "plt.show"
      ],
      "execution_count": 484,
      "outputs": [
        {
          "output_type": "execute_result",
          "data": {
            "text/plain": [
              "<function matplotlib.pyplot.show>"
            ]
          },
          "metadata": {},
          "execution_count": 484
        },
        {
          "output_type": "display_data",
          "data": {
            "image/png": "[encoded data removed]",
            "text/plain": [
              "<Figure size 720x720 with 1 Axes>"
            ]
          },
          "metadata": {
            "needs_background": "light"
          }
        }
      ]
    },
    {
      "cell_type": "code",
      "metadata": {
        "colab": {
          "base_uri": "https://localhost:8080/",
          "height": 609
        },
        "id": "4Jt4pOlVyzS-",
        "outputId": "5b6edcbb-26e9-4fff-8790-de4094df57e3"
      },
      "source": [
        "history_dict = history.history\n",
        "loss_values = history_dict[\"accuracy\"]\n",
        "val_loss_values = history_dict[\"val_accuracy\"]\n",
        "\n",
        "fig = plt.figure(figsize=(10,10))\n",
        "epoch = range(1,len(loss_values)+1)\n",
        "plt.plot(epoch, loss_values, \"o\", label = \"training\")\n",
        "plt.plot(epoch, val_loss_values, \"--\", label = \"validation\")\n",
        "plt.legend()\n",
        "plt.show"
      ],
      "execution_count": 485,
      "outputs": [
        {
          "output_type": "execute_result",
          "data": {
            "text/plain": [
              "<function matplotlib.pyplot.show>"
            ]
          },
          "metadata": {},
          "execution_count": 485
        },
        {
          "output_type": "display_data",
          "data": {
            "image/png": "[encoded data removed]",
            "text/plain": [
              "<Figure size 720x720 with 1 Axes>"
            ]
          },
          "metadata": {
            "needs_background": "light"
          }
        }
      ]
    },
    {
      "cell_type": "code",
      "metadata": {
        "colab": {
          "base_uri": "https://localhost:8080/"
        },
        "id": "eR0cQEWdzA_Z",
        "outputId": "610e0ce2-74b2-4d2c-8124-d42786890d52"
      },
      "source": [
        "model.evaluate(x_test, y_test)"
      ],
      "execution_count": 486,
      "outputs": [
        {
          "output_type": "stream",
          "name": "stdout",
          "text": [
            "71/71 [==============================] - 0s 4ms/step - loss: 1.1195 - accuracy: 0.8059\n"
          ]
        },
        {
          "output_type": "execute_result",
          "data": {
            "text/plain": [
              "[1.1194812059402466, 0.8058770895004272]"
            ]
          },
          "metadata": {},
          "execution_count": 486
        }
      ]
    }
  ]
}